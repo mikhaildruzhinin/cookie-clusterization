{
 "cells": [
  {
   "cell_type": "code",
   "execution_count": 1,
   "metadata": {},
   "outputs": [],
   "source": [
    "import numpy as np\n",
    "import matplotlib.pyplot as plt\n",
    "import pandas as pd\n",
    "from sklearn import preprocessing\n",
    "from sklearn.cluster import KMeans\n",
    "from kneed import KneeLocator"
   ]
  },
  {
   "cell_type": "markdown",
   "metadata": {},
   "source": [
    "Для диверсификации рекламы и коммуникацации с потенциальными клиентами требуется сегментирование (кластеризация) существующей базы. Для кластеризации используем метод k-средних, так как он отличается высокой скоростью и простотой реализации.\n",
    "\n",
    "Датасет содержит действия пользователей (cookie) на сайтах клиента. Данные включают в себя:\n",
    "* уникальный идентификатор события (поле event_ id)\n",
    "* дату и время события (поле date)\n",
    "* уникальный ID пользователя (поле cookie_id)\n",
    "* уникальный идентификатор сессии, в рамках которой произошло событие (поле session_id)\n",
    "* сайт, на котором произошло событие (поле domain_id)\n",
    "* тип события (поле event_ type)\n"
   ]
  },
  {
   "cell_type": "markdown",
   "metadata": {},
   "source": [
    "Загружаем датасет. Для экономии памяти заранее отбрасываем ненужные колонки."
   ]
  },
  {
   "cell_type": "code",
   "execution_count": 2,
   "metadata": {},
   "outputs": [],
   "source": [
    "df = pd.read_csv('data.csv', dtype=str, usecols=['date', 'cookie_id', 'domain_id'], parse_dates=['date'])"
   ]
  },
  {
   "cell_type": "code",
   "execution_count": 3,
   "metadata": {},
   "outputs": [
    {
     "data": {
      "text/html": [
       "<div>\n",
       "<style scoped>\n",
       "    .dataframe tbody tr th:only-of-type {\n",
       "        vertical-align: middle;\n",
       "    }\n",
       "\n",
       "    .dataframe tbody tr th {\n",
       "        vertical-align: top;\n",
       "    }\n",
       "\n",
       "    .dataframe thead th {\n",
       "        text-align: right;\n",
       "    }\n",
       "</style>\n",
       "<table border=\"1\" class=\"dataframe\">\n",
       "  <thead>\n",
       "    <tr style=\"text-align: right;\">\n",
       "      <th></th>\n",
       "      <th>date</th>\n",
       "      <th>cookie_id</th>\n",
       "      <th>domain_id</th>\n",
       "    </tr>\n",
       "  </thead>\n",
       "  <tbody>\n",
       "    <tr>\n",
       "      <th>0</th>\n",
       "      <td>2020-08-18 00:00:01.065710</td>\n",
       "      <td>9e2c1cf7-83a4-4fcf-9d87-63e316a0c91f</td>\n",
       "      <td>a1fb2d2a-9c3e-49e2-a651-cf52fbf0212a</td>\n",
       "    </tr>\n",
       "    <tr>\n",
       "      <th>1</th>\n",
       "      <td>2020-08-18 00:00:01.066429</td>\n",
       "      <td>9e2c1cf7-83a4-4fcf-9d87-63e316a0c91f</td>\n",
       "      <td>a1fb2d2a-9c3e-49e2-a651-cf52fbf0212a</td>\n",
       "    </tr>\n",
       "    <tr>\n",
       "      <th>2</th>\n",
       "      <td>2020-08-18 00:00:02.582822</td>\n",
       "      <td>9e2c1cf7-83a4-4fcf-9d87-63e316a0c91f</td>\n",
       "      <td>a1fb2d2a-9c3e-49e2-a651-cf52fbf0212a</td>\n",
       "    </tr>\n",
       "    <tr>\n",
       "      <th>3</th>\n",
       "      <td>2020-08-18 00:00:02.582836</td>\n",
       "      <td>9e2c1cf7-83a4-4fcf-9d87-63e316a0c91f</td>\n",
       "      <td>a1fb2d2a-9c3e-49e2-a651-cf52fbf0212a</td>\n",
       "    </tr>\n",
       "    <tr>\n",
       "      <th>4</th>\n",
       "      <td>2020-08-18 00:00:03.225834</td>\n",
       "      <td>b82ab5d5-228b-4f41-89c4-4eb74bfb4653</td>\n",
       "      <td>34308d56-1149-42a1-a0d9-5652c915ac9e</td>\n",
       "    </tr>\n",
       "  </tbody>\n",
       "</table>\n",
       "</div>"
      ],
      "text/plain": [
       "                        date                             cookie_id  \\\n",
       "0 2020-08-18 00:00:01.065710  9e2c1cf7-83a4-4fcf-9d87-63e316a0c91f   \n",
       "1 2020-08-18 00:00:01.066429  9e2c1cf7-83a4-4fcf-9d87-63e316a0c91f   \n",
       "2 2020-08-18 00:00:02.582822  9e2c1cf7-83a4-4fcf-9d87-63e316a0c91f   \n",
       "3 2020-08-18 00:00:02.582836  9e2c1cf7-83a4-4fcf-9d87-63e316a0c91f   \n",
       "4 2020-08-18 00:00:03.225834  b82ab5d5-228b-4f41-89c4-4eb74bfb4653   \n",
       "\n",
       "                              domain_id  \n",
       "0  a1fb2d2a-9c3e-49e2-a651-cf52fbf0212a  \n",
       "1  a1fb2d2a-9c3e-49e2-a651-cf52fbf0212a  \n",
       "2  a1fb2d2a-9c3e-49e2-a651-cf52fbf0212a  \n",
       "3  a1fb2d2a-9c3e-49e2-a651-cf52fbf0212a  \n",
       "4  34308d56-1149-42a1-a0d9-5652c915ac9e  "
      ]
     },
     "execution_count": 3,
     "metadata": {},
     "output_type": "execute_result"
    }
   ],
   "source": [
    "df.head()"
   ]
  },
  {
   "cell_type": "markdown",
   "metadata": {},
   "source": [
    "Проверяем, нет ли пропусков в датафрейме:"
   ]
  },
  {
   "cell_type": "code",
   "execution_count": 4,
   "metadata": {},
   "outputs": [
    {
     "data": {
      "text/plain": [
       "date         0\n",
       "cookie_id    0\n",
       "domain_id    0\n",
       "dtype: int64"
      ]
     },
     "execution_count": 4,
     "metadata": {},
     "output_type": "execute_result"
    }
   ],
   "source": [
    "df.isnull().sum(axis=0)"
   ]
  },
  {
   "cell_type": "markdown",
   "metadata": {},
   "source": [
    "Результаты кластеризации очень сильно зависят от времени, по которому она проводится, поэтому обращаем внимание, на временной интервал датасета. Длинные промежутки времени позволяют выявить стабильные закономерности, а короткие -- локальные закономерности, которые может быть не видно на длительном промежутке времени."
   ]
  },
  {
   "cell_type": "code",
   "execution_count": 5,
   "metadata": {},
   "outputs": [
    {
     "data": {
      "text/plain": [
       "(Timestamp('2020-09-08 23:59:54.218274'),\n",
       " Timestamp('2020-08-18 00:00:01.065710'))"
      ]
     },
     "execution_count": 5,
     "metadata": {},
     "output_type": "execute_result"
    }
   ],
   "source": [
    "df['date'].max(), df['date'].min()"
   ]
  },
  {
   "cell_type": "markdown",
   "metadata": {},
   "source": [
    "Необходимо сформировать сводную таблицу, которая будет использоваться в качестве исходных данных. Индексами строк будут значения колонки `cookie_id`, а столбцами -- `domain_id`. Также добавим датафрейму дополнительную колонку `values`, все значения в которой будут равны 1."
   ]
  },
  {
   "cell_type": "code",
   "execution_count": 6,
   "metadata": {},
   "outputs": [],
   "source": [
    "df['values'] = 1"
   ]
  },
  {
   "cell_type": "markdown",
   "metadata": {},
   "source": [
    "Пропуски в таблице заполним пренебрежимо малыми величинами (но не нулями, чтобы в дальнейшем можно было провести логарифмирование значений)."
   ]
  },
  {
   "cell_type": "code",
   "execution_count": 7,
   "metadata": {},
   "outputs": [],
   "source": [
    "pivot_table = df.pivot_table(index='cookie_id', columns='domain_id', values='values', aggfunc=np.sum).fillna(0.00001)"
   ]
  },
  {
   "cell_type": "markdown",
   "metadata": {},
   "source": [
    "Для удобства обозначим пользователей в сводной таблице цифрами, а сайты -- буквами."
   ]
  },
  {
   "cell_type": "code",
   "execution_count": 8,
   "metadata": {},
   "outputs": [
    {
     "data": {
      "text/plain": [
       "9"
      ]
     },
     "execution_count": 8,
     "metadata": {},
     "output_type": "execute_result"
    }
   ],
   "source": [
    "pd.unique(df['domain_id']).shape[0]"
   ]
  },
  {
   "cell_type": "code",
   "execution_count": 9,
   "metadata": {
    "scrolled": false
   },
   "outputs": [
    {
     "data": {
      "text/html": [
       "<div>\n",
       "<style scoped>\n",
       "    .dataframe tbody tr th:only-of-type {\n",
       "        vertical-align: middle;\n",
       "    }\n",
       "\n",
       "    .dataframe tbody tr th {\n",
       "        vertical-align: top;\n",
       "    }\n",
       "\n",
       "    .dataframe thead th {\n",
       "        text-align: right;\n",
       "    }\n",
       "</style>\n",
       "<table border=\"1\" class=\"dataframe\">\n",
       "  <thead>\n",
       "    <tr style=\"text-align: right;\">\n",
       "      <th></th>\n",
       "      <th>A</th>\n",
       "      <th>B</th>\n",
       "      <th>C</th>\n",
       "      <th>D</th>\n",
       "      <th>E</th>\n",
       "      <th>F</th>\n",
       "      <th>G</th>\n",
       "      <th>H</th>\n",
       "      <th>I</th>\n",
       "    </tr>\n",
       "  </thead>\n",
       "  <tbody>\n",
       "    <tr>\n",
       "      <th>1</th>\n",
       "      <td>0.00001</td>\n",
       "      <td>7.00000</td>\n",
       "      <td>0.00001</td>\n",
       "      <td>0.00001</td>\n",
       "      <td>0.00001</td>\n",
       "      <td>0.00001</td>\n",
       "      <td>0.00001</td>\n",
       "      <td>0.00001</td>\n",
       "      <td>0.00001</td>\n",
       "    </tr>\n",
       "    <tr>\n",
       "      <th>2</th>\n",
       "      <td>4.00000</td>\n",
       "      <td>0.00001</td>\n",
       "      <td>0.00001</td>\n",
       "      <td>0.00001</td>\n",
       "      <td>0.00001</td>\n",
       "      <td>0.00001</td>\n",
       "      <td>0.00001</td>\n",
       "      <td>0.00001</td>\n",
       "      <td>0.00001</td>\n",
       "    </tr>\n",
       "    <tr>\n",
       "      <th>3</th>\n",
       "      <td>0.00001</td>\n",
       "      <td>0.00001</td>\n",
       "      <td>0.00001</td>\n",
       "      <td>0.00001</td>\n",
       "      <td>0.00001</td>\n",
       "      <td>14.00000</td>\n",
       "      <td>0.00001</td>\n",
       "      <td>0.00001</td>\n",
       "      <td>0.00001</td>\n",
       "    </tr>\n",
       "    <tr>\n",
       "      <th>4</th>\n",
       "      <td>0.00001</td>\n",
       "      <td>0.00001</td>\n",
       "      <td>0.00001</td>\n",
       "      <td>0.00001</td>\n",
       "      <td>0.00001</td>\n",
       "      <td>5.00000</td>\n",
       "      <td>0.00001</td>\n",
       "      <td>0.00001</td>\n",
       "      <td>0.00001</td>\n",
       "    </tr>\n",
       "    <tr>\n",
       "      <th>5</th>\n",
       "      <td>0.00001</td>\n",
       "      <td>0.00001</td>\n",
       "      <td>0.00001</td>\n",
       "      <td>0.00001</td>\n",
       "      <td>0.00001</td>\n",
       "      <td>19.00000</td>\n",
       "      <td>0.00001</td>\n",
       "      <td>0.00001</td>\n",
       "      <td>0.00001</td>\n",
       "    </tr>\n",
       "  </tbody>\n",
       "</table>\n",
       "</div>"
      ],
      "text/plain": [
       "         A        B        C        D        E         F        G        H  \\\n",
       "1  0.00001  7.00000  0.00001  0.00001  0.00001   0.00001  0.00001  0.00001   \n",
       "2  4.00000  0.00001  0.00001  0.00001  0.00001   0.00001  0.00001  0.00001   \n",
       "3  0.00001  0.00001  0.00001  0.00001  0.00001  14.00000  0.00001  0.00001   \n",
       "4  0.00001  0.00001  0.00001  0.00001  0.00001   5.00000  0.00001  0.00001   \n",
       "5  0.00001  0.00001  0.00001  0.00001  0.00001  19.00000  0.00001  0.00001   \n",
       "\n",
       "         I  \n",
       "1  0.00001  \n",
       "2  0.00001  \n",
       "3  0.00001  \n",
       "4  0.00001  \n",
       "5  0.00001  "
      ]
     },
     "execution_count": 9,
     "metadata": {},
     "output_type": "execute_result"
    }
   ],
   "source": [
    "pivot_table.index = range(1, pivot_table.shape[0] + 1)\n",
    "pivot_table.columns = list('ABCDEFGHI')\n",
    "pivot_table.head()"
   ]
  },
  {
   "cell_type": "markdown",
   "metadata": {},
   "source": [
    "Посмотрим на то, какой диапазон значений принимают данные в сводной таблице, для этого найдём наибольшие значения:"
   ]
  },
  {
   "cell_type": "code",
   "execution_count": 10,
   "metadata": {},
   "outputs": [
    {
     "data": {
      "text/plain": [
       "A      1996.0\n",
       "B       841.0\n",
       "C      1142.0\n",
       "D      1714.0\n",
       "E      1123.0\n",
       "F       849.0\n",
       "G    674858.0\n",
       "H       380.0\n",
       "I       270.0\n",
       "dtype: float64"
      ]
     },
     "execution_count": 10,
     "metadata": {},
     "output_type": "execute_result"
    }
   ],
   "source": [
    "pivot_table.max(axis=0)"
   ]
  },
  {
   "cell_type": "markdown",
   "metadata": {},
   "source": [
    "Поскольку диапазон значений очень широк, применим к ним логарифмирование:"
   ]
  },
  {
   "cell_type": "code",
   "execution_count": 11,
   "metadata": {},
   "outputs": [],
   "source": [
    "x_log = np.log(pivot_table)"
   ]
  },
  {
   "cell_type": "markdown",
   "metadata": {},
   "source": [
    "Нормализуем данные, чтобы они принимали значения между 0 и 1:"
   ]
  },
  {
   "cell_type": "code",
   "execution_count": 12,
   "metadata": {},
   "outputs": [
    {
     "data": {
      "text/html": [
       "<div>\n",
       "<style scoped>\n",
       "    .dataframe tbody tr th:only-of-type {\n",
       "        vertical-align: middle;\n",
       "    }\n",
       "\n",
       "    .dataframe tbody tr th {\n",
       "        vertical-align: top;\n",
       "    }\n",
       "\n",
       "    .dataframe thead th {\n",
       "        text-align: right;\n",
       "    }\n",
       "</style>\n",
       "<table border=\"1\" class=\"dataframe\">\n",
       "  <thead>\n",
       "    <tr style=\"text-align: right;\">\n",
       "      <th></th>\n",
       "      <th>A</th>\n",
       "      <th>B</th>\n",
       "      <th>C</th>\n",
       "      <th>D</th>\n",
       "      <th>E</th>\n",
       "      <th>F</th>\n",
       "      <th>G</th>\n",
       "      <th>H</th>\n",
       "      <th>I</th>\n",
       "    </tr>\n",
       "  </thead>\n",
       "  <tbody>\n",
       "    <tr>\n",
       "      <th>0</th>\n",
       "      <td>0.000000</td>\n",
       "      <td>0.737571</td>\n",
       "      <td>0.0</td>\n",
       "      <td>0.0</td>\n",
       "      <td>0.0</td>\n",
       "      <td>0.000000</td>\n",
       "      <td>0.0</td>\n",
       "      <td>0.0</td>\n",
       "      <td>0.0</td>\n",
       "    </tr>\n",
       "    <tr>\n",
       "      <th>1</th>\n",
       "      <td>0.674934</td>\n",
       "      <td>0.000000</td>\n",
       "      <td>0.0</td>\n",
       "      <td>0.0</td>\n",
       "      <td>0.0</td>\n",
       "      <td>0.000000</td>\n",
       "      <td>0.0</td>\n",
       "      <td>0.0</td>\n",
       "      <td>0.0</td>\n",
       "    </tr>\n",
       "    <tr>\n",
       "      <th>2</th>\n",
       "      <td>0.000000</td>\n",
       "      <td>0.000000</td>\n",
       "      <td>0.0</td>\n",
       "      <td>0.0</td>\n",
       "      <td>0.0</td>\n",
       "      <td>0.775154</td>\n",
       "      <td>0.0</td>\n",
       "      <td>0.0</td>\n",
       "      <td>0.0</td>\n",
       "    </tr>\n",
       "    <tr>\n",
       "      <th>3</th>\n",
       "      <td>0.000000</td>\n",
       "      <td>0.000000</td>\n",
       "      <td>0.0</td>\n",
       "      <td>0.0</td>\n",
       "      <td>0.0</td>\n",
       "      <td>0.718759</td>\n",
       "      <td>0.0</td>\n",
       "      <td>0.0</td>\n",
       "      <td>0.0</td>\n",
       "    </tr>\n",
       "    <tr>\n",
       "      <th>4</th>\n",
       "      <td>0.000000</td>\n",
       "      <td>0.000000</td>\n",
       "      <td>0.0</td>\n",
       "      <td>0.0</td>\n",
       "      <td>0.0</td>\n",
       "      <td>0.791881</td>\n",
       "      <td>0.0</td>\n",
       "      <td>0.0</td>\n",
       "      <td>0.0</td>\n",
       "    </tr>\n",
       "  </tbody>\n",
       "</table>\n",
       "</div>"
      ],
      "text/plain": [
       "          A         B    C    D    E         F    G    H    I\n",
       "0  0.000000  0.737571  0.0  0.0  0.0  0.000000  0.0  0.0  0.0\n",
       "1  0.674934  0.000000  0.0  0.0  0.0  0.000000  0.0  0.0  0.0\n",
       "2  0.000000  0.000000  0.0  0.0  0.0  0.775154  0.0  0.0  0.0\n",
       "3  0.000000  0.000000  0.0  0.0  0.0  0.718759  0.0  0.0  0.0\n",
       "4  0.000000  0.000000  0.0  0.0  0.0  0.791881  0.0  0.0  0.0"
      ]
     },
     "execution_count": 12,
     "metadata": {},
     "output_type": "execute_result"
    }
   ],
   "source": [
    "min_max_scaler = preprocessing.MinMaxScaler()\n",
    "x_scaled = pd.DataFrame(min_max_scaler.fit_transform(x_log.values))\n",
    "x_scaled.columns = list('ABCDEFGHI')\n",
    "x_scaled.head()"
   ]
  },
  {
   "cell_type": "markdown",
   "metadata": {},
   "source": [
    "Чтобы определить оптимальное число кластеров, воспользуемся методом локтя. Он подразумевает многократное циклическое исполнение алгоритма с увеличением количества выбираемых кластеров, а также последующим откладыванием на графике суммы квадратов ошибок (SSE). Оптимальное число кластеров будет находится в точке изгиба графика. Иногда бывает трудно определить её визуально, поэтому также воспользуемся модулем `kneed`, который вычисляет эту точку."
   ]
  },
  {
   "cell_type": "code",
   "execution_count": 13,
   "metadata": {},
   "outputs": [
    {
     "data": {
      "image/png": "[encoded data removed]",
      "text/plain": [
       "<Figure size 432x288 with 1 Axes>"
      ]
     },
     "metadata": {
      "needs_background": "light"
     },
     "output_type": "display_data"
    },
    {
     "data": {
      "text/plain": [
       "7"
      ]
     },
     "execution_count": 13,
     "metadata": {},
     "output_type": "execute_result"
    }
   ],
   "source": [
    "max_clusters = 20\n",
    "sse = []\n",
    "for k in range(1, max_clusters + 1):\n",
    "    kmeans = KMeans(n_clusters=k)\n",
    "    kmeans.fit(x_scaled)\n",
    "    sse.append(kmeans.inertia_)\n",
    "plt.plot(range(1, max_clusters + 1), sse)\n",
    "plt.xticks(range(1, max_clusters + 1, 2))\n",
    "plt.xlabel('Число кластеров')\n",
    "plt.ylabel('SSE')\n",
    "plt.show()\n",
    "kl = KneeLocator(range(1,max_clusters + 1), sse, curve='convex', direction='decreasing')\n",
    "kl.elbow"
   ]
  },
  {
   "cell_type": "markdown",
   "metadata": {},
   "source": [
    "Проводим кластеризацию:"
   ]
  },
  {
   "cell_type": "code",
   "execution_count": 14,
   "metadata": {},
   "outputs": [],
   "source": [
    "n_clusters = 7\n",
    "kmeans = KMeans(n_clusters=n_clusters).fit(x_scaled)"
   ]
  },
  {
   "cell_type": "markdown",
   "metadata": {},
   "source": [
    "Результатом работы алгоритма является маркировка всех пользователей в зависимости от их поведения. Клиенты с одинаковыми поведенческими характеристиками попадают в один кластер. Рассмотрим, как распределились по кластерам пользователи:"
   ]
  },
  {
   "cell_type": "code",
   "execution_count": 15,
   "metadata": {},
   "outputs": [
    {
     "data": {
      "image/png": "[encoded data removed]",
      "text/plain": [
       "<Figure size 360x360 with 1 Axes>"
      ]
     },
     "metadata": {},
     "output_type": "display_data"
    }
   ],
   "source": [
    "labels = np.arange(n_clusters)\n",
    "sizes = pd.Series(kmeans.labels_).groupby(kmeans.labels_).count()\n",
    "\n",
    "fig1, ax1 = plt.subplots(figsize=(5,5))\n",
    "ax1.pie(sizes, labels=labels, autopct='%1.1f%%', startangle=90)\n",
    "ax1.axis('equal')\n",
    "\n",
    "plt.show()"
   ]
  },
  {
   "cell_type": "markdown",
   "metadata": {},
   "source": [
    "Из круговой диаграммы видно, что две трети пользователей попали в два крупных кластера, а оставшая треть оказалась распределена между пятью кластерами."
   ]
  },
  {
   "cell_type": "markdown",
   "metadata": {},
   "source": [
    "Посмотрим, как распределились события на сайтах внутри кластеров:"
   ]
  },
  {
   "cell_type": "code",
   "execution_count": 16,
   "metadata": {},
   "outputs": [
    {
     "data": {
      "text/html": [
       "<div>\n",
       "<style scoped>\n",
       "    .dataframe tbody tr th:only-of-type {\n",
       "        vertical-align: middle;\n",
       "    }\n",
       "\n",
       "    .dataframe tbody tr th {\n",
       "        vertical-align: top;\n",
       "    }\n",
       "\n",
       "    .dataframe thead th {\n",
       "        text-align: right;\n",
       "    }\n",
       "</style>\n",
       "<table border=\"1\" class=\"dataframe\">\n",
       "  <thead>\n",
       "    <tr style=\"text-align: right;\">\n",
       "      <th></th>\n",
       "      <th>0</th>\n",
       "      <th>1</th>\n",
       "      <th>2</th>\n",
       "      <th>3</th>\n",
       "      <th>4</th>\n",
       "      <th>5</th>\n",
       "      <th>6</th>\n",
       "    </tr>\n",
       "  </thead>\n",
       "  <tbody>\n",
       "    <tr>\n",
       "      <th>A</th>\n",
       "      <td>105.670568</td>\n",
       "      <td>36206.871608</td>\n",
       "      <td>2404.709487</td>\n",
       "      <td>6.497074</td>\n",
       "      <td>112.021438</td>\n",
       "      <td>259.706644</td>\n",
       "      <td>880.568666</td>\n",
       "    </tr>\n",
       "    <tr>\n",
       "      <th>B</th>\n",
       "      <td>12.189592</td>\n",
       "      <td>50.788528</td>\n",
       "      <td>112.029739</td>\n",
       "      <td>0.630931</td>\n",
       "      <td>98.894650</td>\n",
       "      <td>33.159665</td>\n",
       "      <td>7522.840807</td>\n",
       "    </tr>\n",
       "    <tr>\n",
       "      <th>C</th>\n",
       "      <td>7013.292007</td>\n",
       "      <td>63.721555</td>\n",
       "      <td>202.745498</td>\n",
       "      <td>7.280460</td>\n",
       "      <td>198.418475</td>\n",
       "      <td>18.512961</td>\n",
       "      <td>159.241802</td>\n",
       "    </tr>\n",
       "    <tr>\n",
       "      <th>D</th>\n",
       "      <td>24.270709</td>\n",
       "      <td>174.734845</td>\n",
       "      <td>271.820023</td>\n",
       "      <td>3.203811</td>\n",
       "      <td>136.738102</td>\n",
       "      <td>7180.292066</td>\n",
       "      <td>537.873644</td>\n",
       "    </tr>\n",
       "    <tr>\n",
       "      <th>E</th>\n",
       "      <td>88.550056</td>\n",
       "      <td>111.043538</td>\n",
       "      <td>252.294021</td>\n",
       "      <td>0.000000</td>\n",
       "      <td>7683.663739</td>\n",
       "      <td>66.253977</td>\n",
       "      <td>388.001869</td>\n",
       "    </tr>\n",
       "    <tr>\n",
       "      <th>F</th>\n",
       "      <td>121.728772</td>\n",
       "      <td>575.517252</td>\n",
       "      <td>45402.404061</td>\n",
       "      <td>11.485826</td>\n",
       "      <td>230.770298</td>\n",
       "      <td>180.651412</td>\n",
       "      <td>804.487220</td>\n",
       "    </tr>\n",
       "    <tr>\n",
       "      <th>G</th>\n",
       "      <td>112.311756</td>\n",
       "      <td>288.308361</td>\n",
       "      <td>654.803171</td>\n",
       "      <td>7949.431124</td>\n",
       "      <td>456.292356</td>\n",
       "      <td>147.922145</td>\n",
       "      <td>494.221713</td>\n",
       "    </tr>\n",
       "    <tr>\n",
       "      <th>H</th>\n",
       "      <td>24.308602</td>\n",
       "      <td>71.120780</td>\n",
       "      <td>424.787629</td>\n",
       "      <td>1459.936137</td>\n",
       "      <td>73.812506</td>\n",
       "      <td>56.237532</td>\n",
       "      <td>371.196678</td>\n",
       "    </tr>\n",
       "    <tr>\n",
       "      <th>I</th>\n",
       "      <td>90.236820</td>\n",
       "      <td>46.337018</td>\n",
       "      <td>174.162363</td>\n",
       "      <td>1902.955425</td>\n",
       "      <td>608.923546</td>\n",
       "      <td>45.467699</td>\n",
       "      <td>267.578387</td>\n",
       "    </tr>\n",
       "  </tbody>\n",
       "</table>\n",
       "</div>"
      ],
      "text/plain": [
       "             0             1             2            3            4  \\\n",
       "A   105.670568  36206.871608   2404.709487     6.497074   112.021438   \n",
       "B    12.189592     50.788528    112.029739     0.630931    98.894650   \n",
       "C  7013.292007     63.721555    202.745498     7.280460   198.418475   \n",
       "D    24.270709    174.734845    271.820023     3.203811   136.738102   \n",
       "E    88.550056    111.043538    252.294021     0.000000  7683.663739   \n",
       "F   121.728772    575.517252  45402.404061    11.485826   230.770298   \n",
       "G   112.311756    288.308361    654.803171  7949.431124   456.292356   \n",
       "H    24.308602     71.120780    424.787629  1459.936137    73.812506   \n",
       "I    90.236820     46.337018    174.162363  1902.955425   608.923546   \n",
       "\n",
       "             5            6  \n",
       "A   259.706644   880.568666  \n",
       "B    33.159665  7522.840807  \n",
       "C    18.512961   159.241802  \n",
       "D  7180.292066   537.873644  \n",
       "E    66.253977   388.001869  \n",
       "F   180.651412   804.487220  \n",
       "G   147.922145   494.221713  \n",
       "H    56.237532   371.196678  \n",
       "I    45.467699   267.578387  "
      ]
     },
     "execution_count": 16,
     "metadata": {},
     "output_type": "execute_result"
    }
   ],
   "source": [
    "cluster_table = pd.DataFrame(index=range(n_clusters), columns=list('ABCDEFGHI'), dtype=np.float64).fillna(0)\n",
    "for i in range(n_clusters):\n",
    "    cluster_table.loc[i] = x_scaled[kmeans.labels_ == i].sum(axis=0).values\n",
    "cluster_table.T"
   ]
  },
  {
   "cell_type": "code",
   "execution_count": 17,
   "metadata": {},
   "outputs": [
    {
     "data": {
      "image/png": "[encoded data removed]",
      "text/plain": [
       "<Figure size 720x360 with 1 Axes>"
      ]
     },
     "metadata": {
      "needs_background": "light"
     },
     "output_type": "display_data"
    }
   ],
   "source": [
    "cluster_table.plot.bar(figsize=(10,5))\n",
    "plt.show()"
   ]
  },
  {
   "cell_type": "markdown",
   "metadata": {},
   "source": [
    "Из графика видно, что в каждом кластере подавляющее большинство занимают события, произошедшие на каком-либо одном сайте. После этого необходимо провести анализ каждого кластера и выявить характеристики пользователей, что позволит персонализировать подход к пользователям:\n",
    "* Траффик кластера. Позволяет определить кластеры, приносящие наибольший траффик.\n",
    "* Доля кластера в общем траффике в процентном соотношении за выбранный период.\n",
    "* Количество пользователей в кластере.\n",
    "* Количество новых пользователей в кластере. (ID пользователя появляется впервые за выбранный период кластеризации).\n",
    "* Общее количество сессий в кластере.\n",
    "* Количество сессий на одного клиента в кластере. Позволяет отследить сколько раз возвращался клиент за выбранный период кластеризации.\n",
    "* Среднее количество действий в сессии.\n",
    "* Средняя продолжительность сессии.\n",
    "* Время суток, в котором производится сессия."
   ]
  }
 ],
 "metadata": {
  "kernelspec": {
   "display_name": "Python 3",
   "language": "python",
   "name": "python3"
  },
  "language_info": {
   "codemirror_mode": {
    "name": "ipython",
    "version": 3
   },
   "file_extension": ".py",
   "mimetype": "text/x-python",
   "name": "python",
   "nbconvert_exporter": "python",
   "pygments_lexer": "ipython3",
   "version": "3.7.0"
  }
 },
 "nbformat": 4,
 "nbformat_minor": 4
}
